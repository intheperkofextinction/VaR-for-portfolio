{
 "cells": [
  {
   "cell_type": "code",
   "execution_count": 12,
   "id": "16c1552d-76dc-46ea-b485-032ce3d07f32",
   "metadata": {},
   "outputs": [],
   "source": [
    "import pandas as pd\n",
    "import numpy as np"
   ]
  },
  {
   "cell_type": "code",
   "execution_count": 13,
   "id": "da011cdf-e9b8-491c-8089-70f370ebcb70",
   "metadata": {},
   "outputs": [],
   "source": [
    "df = pd.read_csv(\"portfolio_daily_returns.csv\", parse_dates=['Date'], index_col='Date')\n",
    "df.columns = ['Return']\n",
    "returns = df['Return']"
   ]
  },
  {
   "cell_type": "code",
   "execution_count": 14,
   "id": "5100721b-efe0-4706-a988-77a72540b6b0",
   "metadata": {},
   "outputs": [],
   "source": [
    "# Rolling 60-day CVaR\n",
    "confidence_level = 0.95\n",
    "def rolling_cvar(series, window=60):\n",
    "    return series.rolling(window).apply(lambda x: x[x <= np.percentile(x, (1-confidence_level)*100)].mean())\n",
    "\n",
    "df['Rolling_CVaR'] = rolling_cvar(returns)\n"
   ]
  },
  {
   "cell_type": "code",
   "execution_count": 15,
   "id": "d1ba41f5-71df-44b3-8509-5a0d92cd35c0",
   "metadata": {},
   "outputs": [],
   "source": [
    "# Cumulative Return\n",
    "df['Cumulative_Return'] =(1 + returns).cumprod()"
   ]
  },
  {
   "cell_type": "code",
   "execution_count": 16,
   "id": "dc471bb5-c0ae-4391-91ba-617ee1226ac5",
   "metadata": {},
   "outputs": [],
   "source": [
    "# Max Drawdown\n",
    "df['Cumulative_Max'] = df['Cumulative_Return'].cummax()\n",
    "df['Drawdown'] = df['Cumulative_Return'] / df['Cumulative_Max'] -1\n",
    "df['Max_Drawdown'] = df['Drawdown'].cummin()"
   ]
  },
  {
   "cell_type": "code",
   "execution_count": 17,
   "id": "1b48a169-053a-4e3e-998c-62ab516df2db",
   "metadata": {},
   "outputs": [],
   "source": [
    "# Save time-series file for power BI\n",
    "df_to_export = df[['Return', 'Rolling_CVaR', 'Cumulative_Return', 'Max_Drawdown']]\n",
    "df_to_export.to_csv(r\"C:\\Users\\amalm\\OneDrive\\Desktop\\finamcial_data_analysis_lerning\\project\\value_at_risk\\powerbi_data\\powerbi_timeseries.csv\")"
   ]
  },
  {
   "cell_type": "code",
   "execution_count": 20,
   "id": "064814e4-8c2e-4fc5-ae7e-20e449c6e0fc",
   "metadata": {},
   "outputs": [],
   "source": [
    "# Summary metrics\n",
    "var_95 = np.percentile(returns, 5)\n",
    "cvar_95 = returns[returns <= var_95].mean()\n",
    "sharpe = returns.mean() / returns.std()\n",
    "sortino = returns.mean() / returns[returns < 0].std()\n",
    "max_drawdown = df['Max_Drawdown'].min()"
   ]
  },
  {
   "cell_type": "code",
   "execution_count": 21,
   "id": "bf814066-03b8-435a-a94a-a2ca41769557",
   "metadata": {},
   "outputs": [],
   "source": [
    "summary = pd.DataFrame({\n",
    "    'Metric' : ['Historical VaR(95%)','CVaR(95%)', 'Max Drawdown', 'sharpe Ratio', 'Sortino Ratio'],\n",
    "    'value': [f\"{var_95:.4%}\", f\"{cvar_95:.4%}\", f\"{max_drawdown:.2%}\", f\"{sharpe:.4f}\", f\"{sortino:.4f}\"]\n",
    "})\n",
    "summary.to_csv(\"powerbi_summary.csv\", index=False)"
   ]
  }
 ],
 "metadata": {
  "kernelspec": {
   "display_name": "Python 3 (ipykernel)",
   "language": "python",
   "name": "python3"
  },
  "language_info": {
   "codemirror_mode": {
    "name": "ipython",
    "version": 3
   },
   "file_extension": ".py",
   "mimetype": "text/x-python",
   "name": "python",
   "nbconvert_exporter": "python",
   "pygments_lexer": "ipython3",
   "version": "3.12.7"
  }
 },
 "nbformat": 4,
 "nbformat_minor": 5
}
