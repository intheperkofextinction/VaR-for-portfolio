{
 "cells": [
  {
   "cell_type": "code",
   "execution_count": 1,
   "id": "a1b3ebbd-c56d-40c1-8e1a-b1e3875a7da7",
   "metadata": {},
   "outputs": [],
   "source": [
    "import pandas as pd\n",
    "import numpy as np"
   ]
  },
  {
   "cell_type": "code",
   "execution_count": 2,
   "id": "d99cbb7d-e157-41b4-a7cb-8019dbd25fa0",
   "metadata": {},
   "outputs": [],
   "source": [
    "df = pd.read_csv(\"portfolio_daily_returns.csv\", parse_dates=['Date'], index_col='Date')\n",
    "df.columns = ['Return']\n",
    "returns = df['Return']"
   ]
  },
  {
   "cell_type": "code",
   "execution_count": 3,
   "id": "601282de-bcd0-4306-aa3a-ee119861c228",
   "metadata": {},
   "outputs": [],
   "source": [
    "# Simulation parameters\n",
    "n_simulations = 100\n",
    "n_days = 60\n",
    "intial_value =1"
   ]
  },
  {
   "cell_type": "code",
   "execution_count": 5,
   "id": "e7f585e4-e317-4a68-b33e-625b64319466",
   "metadata": {},
   "outputs": [],
   "source": [
    "# Monte carlo Simulation\n",
    "simulations = []\n",
    "for i in range(n_simulations):\n",
    "    simulated_returns = np.random.choice(returns, size=n_days, replace=True)\n",
    "    cumulative = (1 + pd.Series(simulated_returns)).cumprod() * intial_value\n",
    "    simulations.append(cumulative)\n"
   ]
  },
  {
   "cell_type": "code",
   "execution_count": 6,
   "id": "02cafcab-2a81-403f-bddc-5af4b10b8fd0",
   "metadata": {},
   "outputs": [],
   "source": [
    "# Convert to DataFrame\n",
    "mc_df = pd.DataFrame(simulations).T\n",
    "mc_df.columns = [f\"Sim_{i+1}\" for i in range(n_simulations)]\n",
    "mc_df['Day'] = range(1, n_days + 1)\n"
   ]
  },
  {
   "cell_type": "code",
   "execution_count": null,
   "id": "777cfc48-0a1e-4b61-9d3f-c7ddec5bc697",
   "metadata": {},
   "outputs": [],
   "source": [
    "mc_melt = mc_df.melt(id_vars='Day', var_name='Simulation', value_name='Value')\n",
    "mc_melt.to_csv(\"mc_simulation.csv\", index=False)"
   ]
  }
 ],
 "metadata": {
  "kernelspec": {
   "display_name": "Python 3 (ipykernel)",
   "language": "python",
   "name": "python3"
  },
  "language_info": {
   "codemirror_mode": {
    "name": "ipython",
    "version": 3
   },
   "file_extension": ".py",
   "mimetype": "text/x-python",
   "name": "python",
   "nbconvert_exporter": "python",
   "pygments_lexer": "ipython3",
   "version": "3.12.7"
  }
 },
 "nbformat": 4,
 "nbformat_minor": 5
}
